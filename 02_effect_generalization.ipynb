{
 "cells": [
  {
   "cell_type": "code",
   "execution_count": null,
   "metadata": {},
   "outputs": [],
   "source": [
    "import re\n",
    "import json"
   ]
  },
  {
   "cell_type": "code",
   "execution_count": null,
   "metadata": {},
   "outputs": [],
   "source": [
    "with open(\"cards.json\") as f:\n",
    "    cards = json.load(f)"
   ]
  },
  {
   "cell_type": "code",
   "execution_count": null,
   "metadata": {},
   "outputs": [],
   "source": [
    "def parse_effect(effect_text):\n",
    "    effect_text = effect_text.lower()\n",
    "    effects = []\n",
    "\n",
    "    effect_keywords = {\n",
    "        '<rush>': 'Rush',\n",
    "        '<banish>': 'Banish',\n",
    "        '<double attack>': 'Double Attack',\n",
    "        '<blocker>': 'Blocker',\n",
    "        '[main]': 'Main',\n",
    "        \"[opponents turn]\": \"Opponents Turn\",\n",
    "        '[counter]': 'Counter',\n",
    "        '[when attacking]': 'When Attacking',\n",
    "        '[on opponents attack]': 'On Opponents Attack',\n",
    "        '[once per turn]': 'Once Per Turn',\n",
    "        '[on ko]': 'On KO',\n",
    "        '[on play]': 'On Play',\n",
    "        '[trigger]': 'Trigger',\n",
    "        '[end of your turn]': 'End of Your Turn',\n",
    "        '[on block]': 'On Block',\n",
    "    }\n",
    "\n",
    "    # Define regex patterns and conditions\n",
    "    conditions = {\n",
    "        \"On Play\": r\"\\[on play\\]\",\n",
    "        \"When Attacking\": r\"\\[when attacking\\]\",\n",
    "        \"Opponents Turn\": r\"\\[opponents turn\\]\",\n",
    "        \"On KO\": r\"\\[on ko\\]\",\n",
    "        \"Once Per Turn\": r\"\\[once per turn\\]\",\n",
    "        \"Passive\": r\"<blocker>\"\n",
    "    }\n",
    "    \n",
    "    actions = {\n",
    "        \"Summon\": r\"play.*character.*cost (\\d+)\",\n",
    "        \"Blocker\": r\"<blocker>\",\n",
    "        \"Draw\": r\"draw\",\n",
    "        \"Buff Power\": r\"gain \\+\\d+ power\"\n",
    "    }\n",
    "\n",
    "    for condition, pattern in conditions.items():\n",
    "        if re.search(pattern, effect_text):\n",
    "            # Parse actions within each condition\n",
    "            for action, action_pattern in actions.items():\n",
    "                match = re.search(action_pattern, effect_text)\n",
    "                if match:\n",
    "                    effect = {\"action\": action, \"condition\": {\"type\": condition}}\n",
    "                    \n",
    "                    # Add any specific targets or cost limitations if present\n",
    "                    if action == \"Summon\":\n",
    "                        effect[\"target\"] = {\"type\": \"Character\", \"cost\": int(match.group(1))}\n",
    "                    \n",
    "                    effects.append(effect)\n",
    "    \n",
    "    return effects"
   ]
  },
  {
   "cell_type": "code",
   "execution_count": null,
   "metadata": {},
   "outputs": [],
   "source": [
    "for card in cards:\n",
    "    if re.match(r\"OP01-.*\", card[\"id\"]):\n",
    "        print(card[\"id\"])\n",
    "        print(parse_effect(card[\"effect\"]))\n",
    "        print()"
   ]
  }
 ],
 "metadata": {
  "language_info": {
   "name": "python"
  }
 },
 "nbformat": 4,
 "nbformat_minor": 2
}
