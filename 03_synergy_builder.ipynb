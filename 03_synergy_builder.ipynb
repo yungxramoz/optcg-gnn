{
 "cells": [
  {
   "cell_type": "code",
   "execution_count": 1,
   "metadata": {
    "vscode": {
     "languageId": "powershell"
    }
   },
   "outputs": [
    {
     "name": "stdout",
     "output_type": "stream",
     "text": [
      "Requirement already satisfied: networkx in c:\\users\\sandr\\onedrive\\dokumente\\schule\\ffhs\\semester 9\\thesis\\gnn-tcg\\code\\optcg-gnn\\.conda\\lib\\site-packages (3.3)\n",
      "Requirement already satisfied: matplotlib in c:\\users\\sandr\\onedrive\\dokumente\\schule\\ffhs\\semester 9\\thesis\\gnn-tcg\\code\\optcg-gnn\\.conda\\lib\\site-packages (3.9.2)\n",
      "Requirement already satisfied: contourpy>=1.0.1 in c:\\users\\sandr\\onedrive\\dokumente\\schule\\ffhs\\semester 9\\thesis\\gnn-tcg\\code\\optcg-gnn\\.conda\\lib\\site-packages (from matplotlib) (1.2.0)\n",
      "Requirement already satisfied: cycler>=0.10 in c:\\users\\sandr\\onedrive\\dokumente\\schule\\ffhs\\semester 9\\thesis\\gnn-tcg\\code\\optcg-gnn\\.conda\\lib\\site-packages (from matplotlib) (0.12.1)\n",
      "Requirement already satisfied: fonttools>=4.22.0 in c:\\users\\sandr\\onedrive\\dokumente\\schule\\ffhs\\semester 9\\thesis\\gnn-tcg\\code\\optcg-gnn\\.conda\\lib\\site-packages (from matplotlib) (4.25.0)\n",
      "Requirement already satisfied: kiwisolver>=1.3.1 in c:\\users\\sandr\\onedrive\\dokumente\\schule\\ffhs\\semester 9\\thesis\\gnn-tcg\\code\\optcg-gnn\\.conda\\lib\\site-packages (from matplotlib) (1.4.4)\n",
      "Requirement already satisfied: numpy>=1.23 in c:\\users\\sandr\\onedrive\\dokumente\\schule\\ffhs\\semester 9\\thesis\\gnn-tcg\\code\\optcg-gnn\\.conda\\lib\\site-packages (from matplotlib) (1.26.4)\n",
      "Requirement already satisfied: packaging>=20.0 in c:\\users\\sandr\\onedrive\\dokumente\\schule\\ffhs\\semester 9\\thesis\\gnn-tcg\\code\\optcg-gnn\\.conda\\lib\\site-packages (from matplotlib) (24.1)\n",
      "Requirement already satisfied: pillow>=8 in c:\\users\\sandr\\onedrive\\dokumente\\schule\\ffhs\\semester 9\\thesis\\gnn-tcg\\code\\optcg-gnn\\.conda\\lib\\site-packages (from matplotlib) (10.4.0)\n",
      "Requirement already satisfied: pyparsing>=2.3.1 in c:\\users\\sandr\\onedrive\\dokumente\\schule\\ffhs\\semester 9\\thesis\\gnn-tcg\\code\\optcg-gnn\\.conda\\lib\\site-packages (from matplotlib) (3.2.0)\n",
      "Requirement already satisfied: python-dateutil>=2.7 in c:\\users\\sandr\\onedrive\\dokumente\\schule\\ffhs\\semester 9\\thesis\\gnn-tcg\\code\\optcg-gnn\\.conda\\lib\\site-packages (from matplotlib) (2.9.0.post0)\n",
      "Requirement already satisfied: six>=1.5 in c:\\users\\sandr\\onedrive\\dokumente\\schule\\ffhs\\semester 9\\thesis\\gnn-tcg\\code\\optcg-gnn\\.conda\\lib\\site-packages (from python-dateutil>=2.7->matplotlib) (1.16.0)\n"
     ]
    }
   ],
   "source": [
    "!pip install networkx\n",
    "!pip install matplotlib"
   ]
  },
  {
   "cell_type": "code",
   "execution_count": null,
   "metadata": {},
   "outputs": [],
   "source": [
    "import json\n",
    "import networkx as nx\n",
    "import matplotlib.pyplot as plt\n",
    "import re\n",
    "from itertools import combinations"
   ]
  },
  {
   "cell_type": "code",
   "execution_count": null,
   "metadata": {},
   "outputs": [],
   "source": [
    "# Load the card data\n",
    "with open('data/labeled_cards.json') as file:\n",
    "    cards = json.load(file)\n",
    "\n",
    "# Initialize the main graph\n",
    "G = nx.Graph()\n",
    "\n",
    "# Add nodes for each card\n",
    "for card in cards:\n",
    "    G.add_node(\n",
    "        card['id'], \n",
    "        name=card['name'], \n",
    "        labels=card['labels'], \n",
    "        traits=card['traits'], \n",
    "        effect=card['effect'], \n",
    "        cost=card['cost'], \n",
    "        color=card['color'], \n",
    "        power=card['power'], \n",
    "        type=card['type']\n",
    "    )"
   ]
  },
  {
   "cell_type": "code",
   "execution_count": 23,
   "metadata": {},
   "outputs": [],
   "source": [
    "def get_searcher_synergy(effect):\n",
    "    synergy = {}\n",
    "    synergy['positive'] = re.findall(r'\\{([^}]+)\\}', effect)\n",
    "    synergy['negative'] = re.findall(r'\\[([^]]+)\\]', effect)\n",
    "    synergy['negative'] = [trait for trait in synergy['negative'] if any(trait in card['name'] or trait in card['traits'] for card in cards)]\n",
    "    return synergy"
   ]
  },
  {
   "cell_type": "code",
   "execution_count": null,
   "metadata": {},
   "outputs": [],
   "source": [
    "for card in cards:\n",
    "    if 'Searcher' in card['labels']:\n",
    "        synergy = get_searcher_synergy(card['effect'])\n",
    "        for positive_trait in synergy['positive']:\n",
    "            for other_card in cards:\n",
    "                if positive_trait in other_card['name'] or positive_trait in other_card['traits']:\n",
    "                    G.add_edge(card['id'], other_card['id'])\n",
    "        for negative_trait in synergy['negative']:\n",
    "            for other_card in cards:\n",
    "                if negative_trait in other_card['name'] or negative_trait in other_card['traits']:\n",
    "                    if G.has_edge(card['id'], other_card['id']):\n",
    "                        G.remove_edge(card['id'], other_card['id'])\n",
    "    "
   ]
  },
  {
   "cell_type": "code",
   "execution_count": 41,
   "metadata": {},
   "outputs": [
    {
     "name": "stdout",
     "output_type": "stream",
     "text": [
      "{'name': 'Jewelry Bonney', 'labels': ['Searcher', 'Low Cost', 'Support'], 'traits': ['Supernovas', 'Bonney Pirates'], 'effect': '[Activate:Main] (1) (Rest the designated number of DON!! in your Cost Area) Rest this Character: Look at the top 5 cards of your deck, reveal 1 {Supernovas} type card and add it to your hand. Place the remaining cards at the bottom of the deck in any order.', 'cost': 1}\n",
      "has neighbors: 76\n",
      "['OP01-074', 'OP01-040', 'ST02-017', 'OP01-047', 'OP01-003', 'OP01-008', 'OP01-039', 'OP01-108', 'OP01-058', 'OP01-019', 'OP01-026', 'OP01-024', 'OP01-001', 'OP01-027', 'OP01-002', 'OP01-025', 'OP01-007', 'OP01-051', 'OP01-054', 'OP01-056', 'ST01-001', 'ST01-012', 'ST01-013', 'ST01-015', 'ST02-005', 'ST02-009', 'ST02-013', 'ST02-015', 'ST02-001', 'ST02-008', 'ST02-010', 'ST02-014', 'ST02-004', 'ST02-003', 'ST02-016', 'OP02-035', 'OP02-041', 'OP02-045', 'OP02-043', 'P-003', 'P-001', 'P-007', 'P-009', 'P-017', 'P-018', 'P-022', 'P-024', 'P-029', 'OP06-076', 'EB01-012', 'EB01-015', 'EB01-020', 'OP07-019', 'OP07-021', 'OP07-023', 'OP07-025', 'OP07-026', 'OP07-028', 'OP07-029', 'OP07-031', 'OP07-033', 'OP07-034', 'OP07-035', 'OP07-036', 'OP07-037', 'ST13-003', 'ST13-015', 'ST03-007', 'ST04-010', 'OP02-025', 'OP02-037', 'OP02-040', 'EB01-033', 'EB01-039', 'EB01-043', 'ST02-007']\n"
     ]
    }
   ],
   "source": [
    "def plot_card_with_neighbors(card_id):\n",
    "    # Get the neighbors of the specified card\n",
    "    neighbors = list(G.neighbors(card_id))\n",
    "    \n",
    "    # Create a subgraph with the card and its neighbors\n",
    "    subgraph = G.subgraph([card_id] + neighbors)\n",
    "    \n",
    "    # Draw the subgraph\n",
    "    pos = nx.spring_layout(subgraph)\n",
    "    plt.figure(figsize=(10, 8))\n",
    "    nx.draw(subgraph, pos, with_labels=True, node_color='lightblue', edge_color='gray', node_size=3000, font_size=10, font_weight='bold')\n",
    "    \n",
    "    # Draw node labels\n",
    "    labels = {node: G.nodes[node]['name'] for node in subgraph.nodes()}\n",
    "    nx.draw_networkx_labels(subgraph, pos, labels, font_size=12)\n",
    "    \n",
    "    plt.title(f\"Graph for card {G.nodes[card_id]['name']} and its neighbors\")\n",
    "    plt.show()\n",
    "\n",
    "# Example usage\n",
    "# plot_card_with_neighbors('OP01-016')\n",
    "print(G.nodes['ST02-007'])\n",
    "# print the neighbors of the card\n",
    "print('has neighbors:' , len(list(G.neighbors('ST02-007'))))\n",
    "print(list(G.neighbors('ST02-007')))"
   ]
  }
 ],
 "metadata": {
  "kernelspec": {
   "display_name": "Python 3",
   "language": "python",
   "name": "python3"
  },
  "language_info": {
   "codemirror_mode": {
    "name": "ipython",
    "version": 3
   },
   "file_extension": ".py",
   "mimetype": "text/x-python",
   "name": "python",
   "nbconvert_exporter": "python",
   "pygments_lexer": "ipython3",
   "version": "3.11.10"
  }
 },
 "nbformat": 4,
 "nbformat_minor": 2
}
